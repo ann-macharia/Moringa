{
  "nbformat": 4,
  "nbformat_minor": 0,
  "metadata": {
    "colab": {
      "name": "Copy of \"Moringa_Data_Science_Prep_W1_Independent_Project_2019_06_Ann_Macharia_Python_Notebook",
      "provenance": [],
      "include_colab_link": true
    },
    "kernelspec": {
      "name": "python3",
      "display_name": "Python 3"
    }
  },
  "cells": [
    {
      "cell_type": "markdown",
      "metadata": {
        "id": "view-in-github",
        "colab_type": "text"
      },
      "source": [
        "<a href=\"https://colab.research.google.com/github/ann-macharia/Moringa/blob/master/Copy_of_%22Moringa_Data_Science_Prep_W1_Independent_Project_2019_06_Ann_Macharia_Python_Notebook.ipynb\" target=\"_parent\"><img src=\"https://colab.research.google.com/assets/colab-badge.svg\" alt=\"Open In Colab\"/></a>"
      ]
    },
    {
      "cell_type": "code",
      "metadata": {
        "id": "EFS9SqAaOTHq",
        "colab_type": "code",
        "outputId": "d304b8f4-1eb3-47e7-c098-a137d1a73a4a",
        "colab": {
          "base_uri": "https://localhost:8080/",
          "height": 204
        }
      },
      "source": [
        "# programme to prompt user to input the value\n",
        "#\n",
        "x=int(input(\"input value 1 in pounds: \"))\n",
        "y=int(input(\"input value 2 in pounds: \"))\n",
        "\n",
        "#converting input values from pounds to kilogramms\n",
        "#\n",
        "a=float(x)*0.453592\n",
        "b=float(y)*0.453592\n",
        "print(\"value 1 in Kg is \" + str(a)+ \"Kg \")\n",
        "print(\"value 2 in Kg is \" + str(b)+ \"Kg \")\n",
        "\n",
        "#obtaining the sum of the values.\n",
        "k= x+y\n",
        "print(\"The sum of the values is \" + str(k))\n",
        "\n",
        "#obtaining the average of the values.\n",
        "mean= (x+y)/2\n",
        "print(\"The average of the values is \" + str(mean))\n",
        "\n",
        "#obtaining the difference of both values.  \n",
        "Diff=x-y\n",
        "print(\"The difference between of the values is \" + str(Diff))\n",
        "\n",
        "#obtaining the quotient when one value is divided by the other.\n",
        "Qone=x//y\n",
        "print(\"quotient when value 1 is divided by value 2 is \" + str(Qone))\n",
        "Qtwo=y//x\n",
        "print(\"quotient when value 2 is divided by value 1 is \" + str(Qtwo))\n",
        "\n",
        "#determining whether value 1 is even or odd.\n",
        "if x%2==0:\n",
        " print(\"value 1 is even\")\n",
        "elif x%2==1:\n",
        "  print(\"value 1 is odd\")\n",
        "\n",
        "#determining whether value 2 is even or odd.\n",
        "if y%2==0:\n",
        "  print(\"value 2 is even\")\n",
        "elif y%2==1:\n",
        " print(\"value 2 is odd\")\n",
        "\n",
        "\n",
        "\n"
      ],
      "execution_count": 0,
      "outputs": [
        {
          "output_type": "stream",
          "text": [
            "input value 1 in pounds: 9\n",
            "input value 2 in pounds: 8\n",
            "value 1 in Kg is 4.082328Kg \n",
            "value 2 in Kg is 3.628736Kg \n",
            "The sum of the values is 17\n",
            "The average of the values is 8.5\n",
            "The difference between of the values is 1\n",
            "quotient when value 1 is divided by value 2 is 1\n",
            "quotient when value 2 is divided by value 1 is 0\n",
            "value 1 is odd\n",
            "value 2 is even\n"
          ],
          "name": "stdout"
        }
      ]
    },
    {
      "cell_type": "code",
      "metadata": {
        "id": "Qn8zCg1WYur3",
        "colab_type": "code",
        "colab": {}
      },
      "source": [
        ""
      ],
      "execution_count": 0,
      "outputs": []
    }
  ]
}